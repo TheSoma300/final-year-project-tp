{
 "cells": [
  {
   "cell_type": "code",
   "execution_count": 1,
   "metadata": {},
   "outputs": [],
   "source": [
    "# Imports\n",
    "import torch\n",
    "import torch.nn as nn  # All neural network modules, nn.Linear, nn.Conv2d, BatchNorm, Loss functions\n",
    "import torch.optim as optim  # For all Optimization algorithms, SGD, Adam, etc.\n",
    "import torch.nn.functional as F  # All functions that don't have any parameters\n",
    "from torch.utils.data import (\n",
    "    DataLoader,\n",
    ")  # Gives easier dataset managment and creates mini batches\n",
    "import torchvision\n",
    "import torchvision.datasets as datasets  # Has standard datasets we can import in a nice way\n",
    "import torchvision.transforms as transforms  # Transformations we can perform on our dataset\n",
    "from sklearn.model_selection import train_test_split\n",
    "import numpy as np\n",
    "\n",
    "\n",
    "from gtzan import GtzanData\n",
    "from gtzan import GtzanDataset"
   ]
  },
  {
   "cell_type": "code",
   "execution_count": 2,
   "metadata": {},
   "outputs": [
    {
     "name": "stdout",
     "output_type": "stream",
     "text": [
      "2\n"
     ]
    },
    {
     "name": "stderr",
     "output_type": "stream",
     "text": [
      "/Users/somaf/anaconda3/lib/python3.7/site-packages/librosa/filters.py:196: FutureWarning: norm=1 behavior will change in librosa 0.8.0. To maintain forward compatibility, use norm='slaney' instead.\n",
      "  FutureWarning)\n",
      "0it [00:00, ?it/s]"
     ]
    },
    {
     "name": "stdout",
     "output_type": "stream",
     "text": [
      "Tests created:  (2, 80, 911) (2,)\n",
      "[[ -9.529814  -12.923529  -15.536166  ...   8.219596    4.9633436\n",
      "    4.182333 ]\n",
      " [ -5.5321817  -8.261785   -1.795187  ...   9.761513    8.360032\n",
      "    7.964115 ]\n",
      " [ -1.3627292  -1.8193327   9.788348  ...   8.355258    3.3490143\n",
      "    2.3999622]\n",
      " ...\n",
      " [-20.013609  -19.097206  -18.188871  ...  -2.6430554  -5.209298\n",
      "   -9.0381155]\n",
      " [-21.304207  -22.136421  -18.765451  ...  -4.4718637  -5.995268\n",
      "   -9.590889 ]\n",
      " [-27.923512  -28.76905   -30.377396  ... -10.538172  -13.197453\n",
      "  -16.176437 ]]\n",
      "Entering set_up_buckets loop\n",
      "num of iterations: 18\n"
     ]
    },
    {
     "name": "stderr",
     "output_type": "stream",
     "text": [
      "18it [00:10,  1.83it/s]\n",
      "0it [00:00, ?it/s]"
     ]
    },
    {
     "name": "stdout",
     "output_type": "stream",
     "text": [
      "18 [7, 6, 3, 4, 4, 6, 4, 3, 8, 5, 0, 2, 2, 9, 2, 4, 6, 0]\n",
      "[[ 12.95991    10.857708    6.364647  ... -17.839642  -19.684824\n",
      "  -18.53613  ]\n",
      " [  9.164498    7.5333924   4.2772636 ... -14.14283   -14.837526\n",
      "  -14.996873 ]\n",
      " [  6.7404957   1.5253916  -5.9684486 ... -12.213085  -14.493652\n",
      "  -15.932869 ]\n",
      " ...\n",
      " [-16.606863  -16.372793  -12.685412  ...  -6.58186   -11.528234\n",
      "  -15.970807 ]\n",
      " [-18.657738  -17.741966  -15.305676  ...  -9.944855  -14.369799\n",
      "  -16.33788  ]\n",
      " [-22.891968  -24.419662  -25.40763   ... -20.077194  -23.182072\n",
      "  -24.204773 ]]\n",
      "Entering init_dataframe loop\n",
      "noise factor: 0.020000\n",
      "noise factor: 0.040000\n",
      "noise factor: 0.060000\n",
      "noise factor: 0.080000\n",
      "noise factor: 0.100000\n",
      "pitch factor: -5.000000\n",
      "pitch factor: -4.000000\n",
      "pitch factor: -3.000000\n",
      "pitch factor: -2.000000\n",
      "pitch factor: -1.000000\n"
     ]
    },
    {
     "name": "stderr",
     "output_type": "stream",
     "text": [
      "\r",
      "1it [00:09,  9.48s/it]"
     ]
    },
    {
     "name": "stdout",
     "output_type": "stream",
     "text": [
      "noise factor: 0.020000\n",
      "noise factor: 0.040000\n",
      "noise factor: 0.060000\n",
      "noise factor: 0.080000\n",
      "noise factor: 0.100000\n",
      "pitch factor: -5.000000\n",
      "pitch factor: -4.000000\n",
      "pitch factor: -3.000000\n",
      "pitch factor: -2.000000\n",
      "pitch factor: -1.000000\n"
     ]
    },
    {
     "name": "stderr",
     "output_type": "stream",
     "text": [
      "\r",
      "2it [00:19,  9.55s/it]"
     ]
    },
    {
     "name": "stdout",
     "output_type": "stream",
     "text": [
      "noise factor: 0.020000\n",
      "noise factor: 0.040000\n",
      "noise factor: 0.060000\n",
      "noise factor: 0.080000\n",
      "noise factor: 0.100000\n",
      "pitch factor: -5.000000\n",
      "pitch factor: -4.000000\n",
      "pitch factor: -3.000000\n",
      "pitch factor: -2.000000\n",
      "pitch factor: -1.000000\n"
     ]
    },
    {
     "name": "stderr",
     "output_type": "stream",
     "text": [
      "\r",
      "3it [00:29,  9.77s/it]"
     ]
    },
    {
     "name": "stdout",
     "output_type": "stream",
     "text": [
      "noise factor: 0.020000\n",
      "noise factor: 0.040000\n",
      "noise factor: 0.060000\n",
      "noise factor: 0.080000\n",
      "noise factor: 0.100000\n",
      "pitch factor: -5.000000\n",
      "pitch factor: -4.000000\n",
      "pitch factor: -3.000000\n",
      "pitch factor: -2.000000\n",
      "pitch factor: -1.000000\n"
     ]
    },
    {
     "name": "stderr",
     "output_type": "stream",
     "text": [
      "\r",
      "4it [00:39,  9.85s/it]"
     ]
    },
    {
     "name": "stdout",
     "output_type": "stream",
     "text": [
      "noise factor: 0.020000\n",
      "noise factor: 0.040000\n",
      "noise factor: 0.060000\n",
      "noise factor: 0.080000\n",
      "noise factor: 0.100000\n",
      "pitch factor: -5.000000\n",
      "pitch factor: -4.000000\n",
      "pitch factor: -3.000000\n",
      "pitch factor: -2.000000\n",
      "pitch factor: -1.000000\n"
     ]
    },
    {
     "name": "stderr",
     "output_type": "stream",
     "text": [
      "\r",
      "5it [00:50, 10.09s/it]"
     ]
    },
    {
     "name": "stdout",
     "output_type": "stream",
     "text": [
      "noise factor: 0.020000\n",
      "noise factor: 0.040000\n",
      "noise factor: 0.060000\n",
      "noise factor: 0.080000\n",
      "noise factor: 0.100000\n",
      "pitch factor: -5.000000\n",
      "pitch factor: -4.000000\n",
      "pitch factor: -3.000000\n",
      "pitch factor: -2.000000\n",
      "pitch factor: -1.000000\n"
     ]
    },
    {
     "name": "stderr",
     "output_type": "stream",
     "text": [
      "\r",
      "6it [01:00, 10.11s/it]"
     ]
    },
    {
     "name": "stdout",
     "output_type": "stream",
     "text": [
      "noise factor: 0.020000\n",
      "noise factor: 0.040000\n",
      "noise factor: 0.060000\n",
      "noise factor: 0.080000\n",
      "noise factor: 0.100000\n",
      "pitch factor: -5.000000\n",
      "pitch factor: -4.000000\n",
      "pitch factor: -3.000000\n",
      "pitch factor: -2.000000\n",
      "pitch factor: -1.000000\n"
     ]
    },
    {
     "name": "stderr",
     "output_type": "stream",
     "text": [
      "\r",
      "7it [01:10, 10.11s/it]"
     ]
    },
    {
     "name": "stdout",
     "output_type": "stream",
     "text": [
      "noise factor: 0.020000\n",
      "noise factor: 0.040000\n",
      "noise factor: 0.060000\n",
      "noise factor: 0.080000\n",
      "noise factor: 0.100000\n",
      "pitch factor: -5.000000\n",
      "pitch factor: -4.000000\n",
      "pitch factor: -3.000000\n",
      "pitch factor: -2.000000\n",
      "pitch factor: -1.000000\n"
     ]
    },
    {
     "name": "stderr",
     "output_type": "stream",
     "text": [
      "\r",
      "8it [01:20, 10.12s/it]"
     ]
    },
    {
     "name": "stdout",
     "output_type": "stream",
     "text": [
      "noise factor: 0.020000\n",
      "noise factor: 0.040000\n",
      "noise factor: 0.060000\n",
      "noise factor: 0.080000\n",
      "noise factor: 0.100000\n",
      "pitch factor: -5.000000\n",
      "pitch factor: -4.000000\n",
      "pitch factor: -3.000000\n",
      "pitch factor: -2.000000\n",
      "pitch factor: -1.000000\n"
     ]
    },
    {
     "name": "stderr",
     "output_type": "stream",
     "text": [
      "\r",
      "9it [01:30, 10.13s/it]"
     ]
    },
    {
     "name": "stdout",
     "output_type": "stream",
     "text": [
      "noise factor: 0.020000\n",
      "noise factor: 0.040000\n",
      "noise factor: 0.060000\n",
      "noise factor: 0.080000\n",
      "noise factor: 0.100000\n",
      "pitch factor: -5.000000\n",
      "pitch factor: -4.000000\n",
      "pitch factor: -3.000000\n",
      "pitch factor: -2.000000\n",
      "pitch factor: -1.000000\n"
     ]
    },
    {
     "name": "stderr",
     "output_type": "stream",
     "text": [
      "\r",
      "10it [01:40, 10.13s/it]"
     ]
    },
    {
     "name": "stdout",
     "output_type": "stream",
     "text": [
      "noise factor: 0.020000\n",
      "noise factor: 0.040000\n",
      "noise factor: 0.060000\n",
      "noise factor: 0.080000\n",
      "noise factor: 0.100000\n",
      "pitch factor: -5.000000\n",
      "pitch factor: -4.000000\n",
      "pitch factor: -3.000000\n",
      "pitch factor: -2.000000\n",
      "pitch factor: -1.000000\n"
     ]
    },
    {
     "name": "stderr",
     "output_type": "stream",
     "text": [
      "\r",
      "11it [01:51, 10.15s/it]"
     ]
    },
    {
     "name": "stdout",
     "output_type": "stream",
     "text": [
      "noise factor: 0.020000\n",
      "noise factor: 0.040000\n",
      "noise factor: 0.060000\n",
      "noise factor: 0.080000\n",
      "noise factor: 0.100000\n",
      "pitch factor: -5.000000\n",
      "pitch factor: -4.000000\n",
      "pitch factor: -3.000000\n",
      "pitch factor: -2.000000\n",
      "pitch factor: -1.000000\n"
     ]
    },
    {
     "name": "stderr",
     "output_type": "stream",
     "text": [
      "\r",
      "12it [02:01, 10.11s/it]"
     ]
    },
    {
     "name": "stdout",
     "output_type": "stream",
     "text": [
      "noise factor: 0.020000\n",
      "noise factor: 0.040000\n",
      "noise factor: 0.060000\n",
      "noise factor: 0.080000\n",
      "noise factor: 0.100000\n",
      "pitch factor: -5.000000\n",
      "pitch factor: -4.000000\n",
      "pitch factor: -3.000000\n",
      "pitch factor: -2.000000\n",
      "pitch factor: -1.000000\n"
     ]
    },
    {
     "name": "stderr",
     "output_type": "stream",
     "text": [
      "\r",
      "13it [02:11, 10.12s/it]"
     ]
    },
    {
     "name": "stdout",
     "output_type": "stream",
     "text": [
      "noise factor: 0.020000\n",
      "noise factor: 0.040000\n",
      "noise factor: 0.060000\n",
      "noise factor: 0.080000\n",
      "noise factor: 0.100000\n",
      "pitch factor: -5.000000\n",
      "pitch factor: -4.000000\n",
      "pitch factor: -3.000000\n",
      "pitch factor: -2.000000\n",
      "pitch factor: -1.000000\n"
     ]
    },
    {
     "name": "stderr",
     "output_type": "stream",
     "text": [
      "\r",
      "14it [02:21, 10.14s/it]"
     ]
    },
    {
     "name": "stdout",
     "output_type": "stream",
     "text": [
      "noise factor: 0.020000\n",
      "noise factor: 0.040000\n",
      "noise factor: 0.060000\n",
      "noise factor: 0.080000\n",
      "noise factor: 0.100000\n",
      "pitch factor: -5.000000\n",
      "pitch factor: -4.000000\n",
      "pitch factor: -3.000000\n",
      "pitch factor: -2.000000\n",
      "pitch factor: -1.000000\n"
     ]
    },
    {
     "name": "stderr",
     "output_type": "stream",
     "text": [
      "\r",
      "15it [02:31, 10.09s/it]"
     ]
    },
    {
     "name": "stdout",
     "output_type": "stream",
     "text": [
      "noise factor: 0.020000\n",
      "noise factor: 0.040000\n",
      "noise factor: 0.060000\n",
      "noise factor: 0.080000\n",
      "noise factor: 0.100000\n",
      "pitch factor: -5.000000\n",
      "pitch factor: -4.000000\n",
      "pitch factor: -3.000000\n",
      "pitch factor: -2.000000\n",
      "pitch factor: -1.000000\n"
     ]
    },
    {
     "name": "stderr",
     "output_type": "stream",
     "text": [
      "\r",
      "16it [02:41, 10.04s/it]"
     ]
    },
    {
     "name": "stdout",
     "output_type": "stream",
     "text": [
      "noise factor: 0.020000\n",
      "noise factor: 0.040000\n",
      "noise factor: 0.060000\n",
      "noise factor: 0.080000\n",
      "noise factor: 0.100000\n",
      "pitch factor: -5.000000\n",
      "pitch factor: -4.000000\n",
      "pitch factor: -3.000000\n",
      "pitch factor: -2.000000\n",
      "pitch factor: -1.000000\n"
     ]
    },
    {
     "name": "stderr",
     "output_type": "stream",
     "text": [
      "\r",
      "17it [02:50,  9.90s/it]"
     ]
    },
    {
     "name": "stdout",
     "output_type": "stream",
     "text": [
      "noise factor: 0.020000\n",
      "noise factor: 0.040000\n",
      "noise factor: 0.060000\n",
      "noise factor: 0.080000\n",
      "noise factor: 0.100000\n",
      "pitch factor: -5.000000\n",
      "pitch factor: -4.000000\n",
      "pitch factor: -3.000000\n",
      "pitch factor: -2.000000\n",
      "pitch factor: -1.000000\n"
     ]
    },
    {
     "name": "stderr",
     "output_type": "stream",
     "text": [
      "\r",
      "18it [03:00,  9.79s/it]"
     ]
    },
    {
     "name": "stdout",
     "output_type": "stream",
     "text": [
      "(198, 80, 911) (198,)\n"
     ]
    },
    {
     "name": "stderr",
     "output_type": "stream",
     "text": [
      "\n"
     ]
    }
   ],
   "source": [
    "GTZAN = GtzanData()"
   ]
  },
  {
   "cell_type": "code",
   "execution_count": 3,
   "metadata": {},
   "outputs": [
    {
     "data": {
      "text/plain": [
       "array([7, 6, 3, 4, 4, 6, 4, 3, 8, 5, 0, 2, 2, 9, 2, 4, 6, 0, 7, 7, 7, 7,\n",
       "       7, 7, 7, 7, 7, 7, 6, 6, 6, 6, 6, 6, 6, 6, 6, 6, 3, 3, 3, 3, 3, 3,\n",
       "       3, 3, 3, 3, 4, 4, 4, 4, 4, 4, 4, 4, 4, 4, 4, 4, 4, 4, 4, 4, 4, 4,\n",
       "       4, 4, 6, 6, 6, 6, 6, 6, 6, 6, 6, 6, 4, 4, 4, 4, 4, 4, 4, 4, 4, 4,\n",
       "       3, 3, 3, 3, 3, 3, 3, 3, 3, 3, 8, 8, 8, 8, 8, 8, 8, 8, 8, 8, 5, 5,\n",
       "       5, 5, 5, 5, 5, 5, 5, 5, 0, 0, 0, 0, 0, 0, 0, 0, 0, 0, 2, 2, 2, 2,\n",
       "       2, 2, 2, 2, 2, 2, 2, 2, 2, 2, 2, 2, 2, 2, 2, 2, 9, 9, 9, 9, 9, 9,\n",
       "       9, 9, 9, 9, 2, 2, 2, 2, 2, 2, 2, 2, 2, 2, 4, 4, 4, 4, 4, 4, 4, 4,\n",
       "       4, 4, 6, 6, 6, 6, 6, 6, 6, 6, 6, 6, 0, 0, 0, 0, 0, 0, 0, 0, 0, 0])"
      ]
     },
     "execution_count": 3,
     "metadata": {},
     "output_type": "execute_result"
    }
   ],
   "source": [
    "GTZAN.train_y"
   ]
  },
  {
   "cell_type": "code",
   "execution_count": 4,
   "metadata": {},
   "outputs": [],
   "source": [
    "transform = transforms.Compose(\n",
    "    [\n",
    "        transforms.ToTensor()\n",
    "    ]\n",
    ")\n",
    "train_dataset = GtzanDataset(GTZAN.train_x, GTZAN.train_y, transform=transform)\n",
    "test_dataset = GtzanDataset(GTZAN.test_x, GTZAN.test_y, transform=transform)"
   ]
  },
  {
   "cell_type": "code",
   "execution_count": 5,
   "metadata": {},
   "outputs": [],
   "source": [
    "train_loader = DataLoader(dataset=train_dataset, batch_size=1)\n",
    "test_loader = DataLoader(dataset=test_dataset, batch_size=1)"
   ]
  },
  {
   "cell_type": "code",
   "execution_count": 6,
   "metadata": {},
   "outputs": [
    {
     "name": "stderr",
     "output_type": "stream",
     "text": [
      "Clipping input data to the valid range for imshow with RGB data ([0..1] for floats or [0..255] for integers).\n"
     ]
    },
    {
     "name": "stdout",
     "output_type": "stream",
     "text": [
      "labels: tensor([7])\n"
     ]
    },
    {
     "data": {
      "image/png": "[encoded data removed]",
      "text/plain": [
       "<Figure size 3600x7200 with 1 Axes>"
      ]
     },
     "metadata": {
      "needs_background": "light"
     },
     "output_type": "display_data"
    }
   ],
   "source": [
    "import matplotlib.pyplot as plt\n",
    "batch = next(iter(train_loader))\n",
    "spectrograms, labels = batch\n",
    "grid = torchvision.utils.make_grid(spectrograms, nrow=10)\n",
    "\n",
    "plt.figure(figsize=(50,100))\n",
    "plt.imshow(grid.permute(1,2,0))\n",
    "\n",
    "print('labels:', labels)\n"
   ]
  },
  {
   "cell_type": "code",
   "execution_count": 7,
   "metadata": {},
   "outputs": [],
   "source": [
    "class CNN(nn.Module):\n",
    "    def __init__(self, in_channels=1, num_classes=10):\n",
    "        super(CNN, self).__init__()\n",
    "        self.conv1 = nn.Conv2d(\n",
    "            in_channels=1,\n",
    "            out_channels=64,\n",
    "            kernel_size=(5, 5),\n",
    "            stride=(1, 1),\n",
    "            padding=(1, 1),\n",
    "        )\n",
    "        self.pool = nn.MaxPool2d(kernel_size=(2, 2))\n",
    "        self.conv2 = nn.Conv2d(\n",
    "            in_channels=64,\n",
    "            out_channels=64,\n",
    "            kernel_size=(5, 5),\n",
    "            stride=(1, 1),\n",
    "            padding=(1, 1),\n",
    "        )\n",
    "        self.pool2 = nn.MaxPool2d(kernel_size=(2, 2))\n",
    "\n",
    "        self.fc1 = nn.Linear(260352, num_classes)\n",
    "\n",
    "    def forward(self, x):\n",
    "        x = F.relu(self.conv1(x))\n",
    "        x = self.pool(x)\n",
    "        x = F.relu(self.conv2(x))\n",
    "        x = self.pool(x)\n",
    "        x = x.reshape(x.shape[0], -1)\n",
    "        x = self.fc1(x)\n",
    "\n",
    "        return x\n"
   ]
  },
  {
   "cell_type": "code",
   "execution_count": 8,
   "metadata": {},
   "outputs": [
    {
     "name": "stdout",
     "output_type": "stream",
     "text": [
      "False\n"
     ]
    }
   ],
   "source": [
    "print(torch.cuda.is_available())"
   ]
  },
  {
   "cell_type": "code",
   "execution_count": 9,
   "metadata": {},
   "outputs": [],
   "source": [
    "# Set device\n",
    "device = torch.device(\"cuda\" if torch.cuda.is_available() else \"cpu\")\n",
    "\n",
    "# Hyperparameters\n",
    "in_channel = 1\n",
    "num_classes = 10\n",
    "learning_rate = 0.001\n",
    "batch_size = 1\n",
    "num_epochs = 5\n",
    "\n",
    "# Initialize network\n",
    "model = CNN().to(device)\n",
    "\n",
    "# Loss and optimizer\n",
    "criterion = nn.CrossEntropyLoss()\n",
    "optimizer = optim.Adam(model.parameters(), lr=learning_rate)"
   ]
  },
  {
   "cell_type": "markdown",
   "metadata": {},
   "source": [
    "## Lets train it"
   ]
  },
  {
   "cell_type": "code",
   "execution_count": 10,
   "metadata": {},
   "outputs": [],
   "source": [
    "# Train Network\n",
    "for epoch in range(num_epochs):\n",
    "    for batch_idx, (data, targets) in enumerate(train_loader):\n",
    "        # forward\n",
    "        scores = model(data)\n",
    "        loss = criterion(scores, targets)\n",
    "\n",
    "        # backward\n",
    "        optimizer.zero_grad()\n",
    "        loss.backward()\n",
    "\n",
    "        # gradient descent or adam step\n",
    "        optimizer.step()\n"
   ]
  },
  {
   "cell_type": "code",
   "execution_count": null,
   "metadata": {},
   "outputs": [],
   "source": [
    "def check_accuracy(loader, model):\n",
    "    num_correct = 0\n",
    "    num_samples = 0\n",
    "    model.eval()\n",
    "\n",
    "    with torch.no_grad():\n",
    "        for x, y in loader:\n",
    "            x = x.to(device=device)\n",
    "            y = y.to(device=device)\n",
    "\n",
    "            scores = model(x)\n",
    "            _, predictions = scores.max(1)\n",
    "            num_correct += (predictions == y).sum()\n",
    "            num_samples += predictions.size(0)\n",
    "\n",
    "        print(\n",
    "            f\"Got {num_correct} / {num_samples} with accuracy {float(num_correct)/float(num_samples)*100:.2f}\"\n",
    "        )\n",
    "\n",
    "    model.train()"
   ]
  },
  {
   "cell_type": "code",
   "execution_count": null,
   "metadata": {},
   "outputs": [],
   "source": [
    "test_dataset.X"
   ]
  },
  {
   "cell_type": "code",
   "execution_count": null,
   "metadata": {},
   "outputs": [],
   "source": [
    "print(\"Checking accuracy on training data\")\n",
    "check_accuracy(train_loader, model)\n",
    "\n",
    "print(\"Checking accuracy on test data\")\n",
    "check_accuracy(test_loader, model)"
   ]
  }
 ],
 "metadata": {
  "kernelspec": {
   "display_name": "Python 3",
   "language": "python",
   "name": "python3"
  },
  "language_info": {
   "codemirror_mode": {
    "name": "ipython",
    "version": 3
   },
   "file_extension": ".py",
   "mimetype": "text/x-python",
   "name": "python",
   "nbconvert_exporter": "python",
   "pygments_lexer": "ipython3",
   "version": "3.7.2"
  }
 },
 "nbformat": 4,
 "nbformat_minor": 2
}
