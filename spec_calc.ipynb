{
 "metadata": {
  "language_info": {
   "codemirror_mode": {
    "name": "ipython",
    "version": 3
   },
   "file_extension": ".py",
   "mimetype": "text/x-python",
   "name": "python",
   "nbconvert_exporter": "python",
   "pygments_lexer": "ipython3",
   "version": "3.8.5"
  },
  "orig_nbformat": 2,
  "kernelspec": {
   "name": "python3",
   "display_name": "Python 3.8.5 64-bit",
   "metadata": {
    "interpreter": {
     "hash": "85c73db2f037dfd613d0516b3689a4c25f0e95afb05542d1a853e9227d820ca2"
    }
   }
  }
 },
 "nbformat": 4,
 "nbformat_minor": 2,
 "cells": [
  {
   "cell_type": "code",
   "execution_count": 65,
   "metadata": {},
   "outputs": [],
   "source": [
    "import numpy as np\n",
    "import torch\n",
    "import torch.nn as nn\n",
    "import torchaudio\n",
    "import torchaudio.transforms as aud_transforms\n",
    "import pandas as pd\n",
    "import copy\n",
    "from tqdm import tqdm"
   ]
  },
  {
   "cell_type": "code",
   "execution_count": 6,
   "metadata": {},
   "outputs": [
    {
     "output_type": "execute_result",
     "data": {
      "text/plain": [
       "array([[1., 0.],\n",
       "       [0., 0.]])"
      ]
     },
     "metadata": {},
     "execution_count": 6
    }
   ],
   "source": [
    "temp_img = np.zeros((2,2))\n",
    "temp_img[0,0] = 1\n",
    "temp_img"
   ]
  },
  {
   "cell_type": "code",
   "execution_count": 7,
   "metadata": {},
   "outputs": [
    {
     "output_type": "execute_result",
     "data": {
      "text/plain": [
       "0.25"
      ]
     },
     "metadata": {},
     "execution_count": 7
    }
   ],
   "source": [
    "temp_img.mean()"
   ]
  },
  {
   "cell_type": "code",
   "execution_count": 81,
   "metadata": {},
   "outputs": [],
   "source": [
    "# need to grab all the songs and calculate mean for all of them\n",
    "def get_data_frame(data_path):\n",
    "    temp_df = pd.read_csv(f\"{data_path}/features_30_sec.csv\")\n",
    "    temp_df['filename'] = temp_df['filename'].str[:-2] + 'wav'\n",
    "    temp_df['filePath'] = data_path + '/WAV/' + temp_df['label'] + '/norm/' + temp_df['filename']\n",
    "\n",
    "    ids = copy.deepcopy(temp_df['filename'])\n",
    "\n",
    "    for index, id in enumerate(ids):\n",
    "        bits = id.split('.')\n",
    "        ids[index] = f\"id-{bits[0][0:2]}{bits[1]}-original\"\n",
    "    temp_df['ID'] = ids\n",
    "\n",
    "    return temp_df.loc[:, ['ID','filePath', 'label']], len(temp_df)"
   ]
  },
  {
   "cell_type": "code",
   "execution_count": 82,
   "metadata": {},
   "outputs": [],
   "source": [
    "df, leng = get_data_frame('data')"
   ]
  },
  {
   "cell_type": "code",
   "execution_count": 83,
   "metadata": {},
   "outputs": [
    {
     "output_type": "execute_result",
     "data": {
      "text/plain": [
       "                    ID                             filePath  label\n",
       "0  id-bl00000-original  data/WAV/blues/norm/blues.00000.wav  blues\n",
       "1  id-bl00001-original  data/WAV/blues/norm/blues.00001.wav  blues\n",
       "2  id-bl00002-original  data/WAV/blues/norm/blues.00002.wav  blues\n",
       "3  id-bl00003-original  data/WAV/blues/norm/blues.00003.wav  blues\n",
       "4  id-bl00004-original  data/WAV/blues/norm/blues.00004.wav  blues"
      ],
      "text/html": "<div>\n<style scoped>\n    .dataframe tbody tr th:only-of-type {\n        vertical-align: middle;\n    }\n\n    .dataframe tbody tr th {\n        vertical-align: top;\n    }\n\n    .dataframe thead th {\n        text-align: right;\n    }\n</style>\n<table border=\"1\" class=\"dataframe\">\n  <thead>\n    <tr style=\"text-align: right;\">\n      <th></th>\n      <th>ID</th>\n      <th>filePath</th>\n      <th>label</th>\n    </tr>\n  </thead>\n  <tbody>\n    <tr>\n      <th>0</th>\n      <td>id-bl00000-original</td>\n      <td>data/WAV/blues/norm/blues.00000.wav</td>\n      <td>blues</td>\n    </tr>\n    <tr>\n      <th>1</th>\n      <td>id-bl00001-original</td>\n      <td>data/WAV/blues/norm/blues.00001.wav</td>\n      <td>blues</td>\n    </tr>\n    <tr>\n      <th>2</th>\n      <td>id-bl00002-original</td>\n      <td>data/WAV/blues/norm/blues.00002.wav</td>\n      <td>blues</td>\n    </tr>\n    <tr>\n      <th>3</th>\n      <td>id-bl00003-original</td>\n      <td>data/WAV/blues/norm/blues.00003.wav</td>\n      <td>blues</td>\n    </tr>\n    <tr>\n      <th>4</th>\n      <td>id-bl00004-original</td>\n      <td>data/WAV/blues/norm/blues.00004.wav</td>\n      <td>blues</td>\n    </tr>\n  </tbody>\n</table>\n</div>"
     },
     "metadata": {},
     "execution_count": 83
    }
   ],
   "source": [
    "df.head()"
   ]
  },
  {
   "cell_type": "code",
   "execution_count": 84,
   "metadata": {},
   "outputs": [
    {
     "output_type": "execute_result",
     "data": {
      "text/plain": [
       "1000"
      ]
     },
     "metadata": {},
     "execution_count": 84
    }
   ],
   "source": [
    "leng"
   ]
  },
  {
   "cell_type": "code",
   "execution_count": 85,
   "metadata": {},
   "outputs": [],
   "source": [
    "def splitsongs(wd, overlap = 0.5):\n",
    "    temp_X = []\n",
    "\n",
    "    # Get the input song array size\n",
    "    xshape = wd.shape[0]\n",
    "    chunk = 33000\n",
    "    offset = int(chunk*(1.-overlap))\n",
    "    \n",
    "    # Split the song and create new ones on windows\n",
    "    spsong = [wd[i:i+chunk] for i in range(0, xshape - chunk + offset, offset)]\n",
    "    for s in spsong:\n",
    "        if s.shape[0] != chunk:\n",
    "            continue\n",
    "\n",
    "        temp_X.append(s)\n",
    "\n",
    "    return np.array(temp_X)\n"
   ]
  },
  {
   "cell_type": "code",
   "execution_count": 86,
   "metadata": {},
   "outputs": [],
   "source": [
    "dataset_params = dict(\n",
    "        frames=256,\n",
    "        bands=128,\n",
    "        window_size=1024,\n",
    "        hop_size=256,\n",
    "        e0=1e-3\n",
    "    )\n",
    "mel_transform = nn.Sequential(\n",
    "    aud_transforms.MelSpectrogram(\n",
    "            sample_rate=16000,\n",
    "            n_mels=dataset_params[\"bands\"],\n",
    "            n_fft=dataset_params[\"window_size\"],\n",
    "            hop_length=dataset_params[\"hop_size\"]\n",
    "    )\n",
    "    # aud_transforms.AmplitudeToDB()\n",
    ")"
   ]
  },
  {
   "cell_type": "code",
   "execution_count": 87,
   "metadata": {},
   "outputs": [],
   "source": [
    "def create_full_spec(path, transform):\n",
    "    wd, sr = torchaudio.load(path)\n",
    "    # audio_mono = wd.mean(dim=0)\n",
    "    resampler = aud_transforms.Resample(sr, 16000)\n",
    "    audio = resampler(wd).squeeze()\n",
    "\n",
    "    return transform(audio)\n",
    "def get_metrics(spec):\n",
    "    np_arr = spec.numpy()\n",
    "    return np_arr.mean(), np_arr.std(), np_arr.min(), np_arr.max()\n",
    "# (30.34647, 167.83447, 0.0001938382, 15812.163)\n"
   ]
  },
  {
   "cell_type": "code",
   "execution_count": 89,
   "metadata": {},
   "outputs": [
    {
     "output_type": "execute_result",
     "data": {
      "text/plain": [
       "(12.362552, 68.37243, 7.779165e-05, 6441.5522)"
      ]
     },
     "metadata": {},
     "execution_count": 89
    }
   ],
   "source": [
    "temp_spec = create_full_spec('data/WAV/blues/norm/blues.00000.wav', mel_transform)\n",
    "get_metrics(temp_spec)"
   ]
  },
  {
   "cell_type": "code",
   "execution_count": 72,
   "metadata": {},
   "outputs": [
    {
     "output_type": "stream",
     "name": "stderr",
     "text": [
      "1000it [07:01,  2.37it/s]37.13857212095708\n",
      "203.2593863657117\n",
      "0.0\n",
      "52251.395\n",
      "\n"
     ]
    }
   ],
   "source": [
    "mean = 0.0\n",
    "std = 0.0\n",
    "most_min = 3000.\n",
    "most_max = -3000.\n",
    "for i, row in tqdm(df.iterrows()):\n",
    "    temp_mean, temp_std, temp_min, temp_max = get_metrics(create_full_spec(row['filePath'], mel_transform))\n",
    "    mean += temp_mean\n",
    "    std += temp_std\n",
    "    if temp_min < most_min: most_min = temp_min\n",
    "    if temp_max > most_max: most_max = temp_max\n",
    "\n",
    "\n",
    "print(mean / 1000)\n",
    "print(std / 1000)\n",
    "print(most_min)\n",
    "print(most_max)\n"
   ]
  }
 ]
}