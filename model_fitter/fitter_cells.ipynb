{
 "metadata": {
  "language_info": {
   "codemirror_mode": {
    "name": "ipython",
    "version": 3
   },
   "file_extension": ".py",
   "mimetype": "text/x-python",
   "name": "python",
   "nbconvert_exporter": "python",
   "pygments_lexer": "ipython3",
   "version": "3.8.5-final"
  },
  "orig_nbformat": 2,
  "kernelspec": {
   "name": "python3",
   "display_name": "Python 3.8.5 64-bit ('tp_project_env')",
   "metadata": {
    "interpreter": {
     "hash": "85c73db2f037dfd613d0516b3689a4c25f0e95afb05542d1a853e9227d820ca2"
    }
   }
  }
 },
 "nbformat": 4,
 "nbformat_minor": 2,
 "cells": [
  {
   "source": [
    "## Need to test out SNR on augerino to get solid width"
   ],
   "cell_type": "markdown",
   "metadata": {}
  },
  {
   "cell_type": "code",
   "execution_count": 75,
   "metadata": {},
   "outputs": [],
   "source": [
    "import numpy as np\n",
    "import torch\n",
    "import torch.nn as nn\n",
    "import torch.nn.functional as F\n",
    "\n",
    "from utils import *\n",
    "from dataset import *"
   ]
  },
  {
   "cell_type": "code",
   "execution_count": 101,
   "metadata": {},
   "outputs": [],
   "source": [
    "# torch layer:\n",
    "class GaussianNoiseAug(nn.Module):\n",
    "    \"\"\"\n",
    "    Differetiable Gaussian noise injection\n",
    "    \"\"\"\n",
    "    def __init__(self):\n",
    "        super().__init__()\n",
    "        self.aug=True\n",
    "        self.log_lims = nn.Parameter(torch.tensor([0., 1.]))\n",
    "\n",
    "    @property\n",
    "    def lims(self):\n",
    "        return F.sigmoid(self.log_lims) * 2 - 1\n",
    "\n",
    "    def forward(self, x):\n",
    "        bs = x.shape[0]\n",
    "        sample_length = x.shape[1]\n",
    "\n",
    "        g_noise = np.random.randn(sample_length)\n",
    "        snr = torch.rand(bs, device=self.lims.device) * (self.lims[1] - self.lims[0]) + self.lims[0]\n",
    "\n",
    "        noise_power = np.mean(np.power(g_noise, 2))\n",
    "        sig_power = torch.mean(torch.pow(x, 2))\n",
    "\n",
    "        snr_linear = 10**(snr / 10.0)\n",
    "        noise_factor = torch.sqrt( (sig_power / noise_power) * (1 / snr_linear) )\n",
    "\n",
    "        noise_factor = noise_factor.expand(-1, sample_length)\n",
    "        g_noise = torch.from_numpy(g_noise)\n",
    "        print(x.shape)\n",
    "        print(noise_factor.shape)\n",
    "        print(g_noise.shape)\n",
    "        lmao = noise_factor * g_noise\n",
    "        print(lmao)\n",
    "        vals = torch.full(tuple(x.shape), torch.sqrt(noise_factor) * torch.from_numpy(g_noise))\n",
    "        return torch.add(x, vals)\n",
    "    "
   ]
  },
  {
   "cell_type": "code",
   "execution_count": 102,
   "metadata": {},
   "outputs": [
    {
     "output_type": "stream",
     "name": "stdout",
     "text": [
      "torch.Size([18, 40000])\ntorch.Size([18])\ntorch.Size([40000])\n"
     ]
    },
    {
     "output_type": "error",
     "ename": "RuntimeError",
     "evalue": "The size of tensor a (18) must match the size of tensor b (40000) at non-singleton dimension 0",
     "traceback": [
      "\u001b[0;31m---------------------------------------------------------------------------\u001b[0m",
      "\u001b[0;31mRuntimeError\u001b[0m                              Traceback (most recent call last)",
      "\u001b[0;32m<ipython-input-102-77430aac4b9f>\u001b[0m in \u001b[0;36m<module>\u001b[0;34m\u001b[0m\n\u001b[1;32m      1\u001b[0m \u001b[0mr\u001b[0m \u001b[0;34m=\u001b[0m \u001b[0mtorch\u001b[0m\u001b[0;34m.\u001b[0m\u001b[0mrand\u001b[0m\u001b[0;34m(\u001b[0m\u001b[0;36m18\u001b[0m\u001b[0;34m,\u001b[0m \u001b[0;36m40000\u001b[0m\u001b[0;34m)\u001b[0m\u001b[0;34m\u001b[0m\u001b[0;34m\u001b[0m\u001b[0m\n\u001b[1;32m      2\u001b[0m \u001b[0mmodel\u001b[0m \u001b[0;34m=\u001b[0m \u001b[0mGaussianNoiseAug\u001b[0m\u001b[0;34m(\u001b[0m\u001b[0;34m)\u001b[0m\u001b[0;34m\u001b[0m\u001b[0;34m\u001b[0m\u001b[0m\n\u001b[0;32m----> 3\u001b[0;31m \u001b[0mres\u001b[0m \u001b[0;34m=\u001b[0m \u001b[0mmodel\u001b[0m\u001b[0;34m(\u001b[0m\u001b[0mr\u001b[0m\u001b[0;34m)\u001b[0m\u001b[0;34m\u001b[0m\u001b[0;34m\u001b[0m\u001b[0m\n\u001b[0m",
      "\u001b[0;32m~/Documents/python-environments/tp_project_env/lib/python3.8/site-packages/torch/nn/modules/module.py\u001b[0m in \u001b[0;36m_call_impl\u001b[0;34m(self, *input, **kwargs)\u001b[0m\n\u001b[1;32m    725\u001b[0m             \u001b[0mresult\u001b[0m \u001b[0;34m=\u001b[0m \u001b[0mself\u001b[0m\u001b[0;34m.\u001b[0m\u001b[0m_slow_forward\u001b[0m\u001b[0;34m(\u001b[0m\u001b[0;34m*\u001b[0m\u001b[0minput\u001b[0m\u001b[0;34m,\u001b[0m \u001b[0;34m**\u001b[0m\u001b[0mkwargs\u001b[0m\u001b[0;34m)\u001b[0m\u001b[0;34m\u001b[0m\u001b[0;34m\u001b[0m\u001b[0m\n\u001b[1;32m    726\u001b[0m         \u001b[0;32melse\u001b[0m\u001b[0;34m:\u001b[0m\u001b[0;34m\u001b[0m\u001b[0;34m\u001b[0m\u001b[0m\n\u001b[0;32m--> 727\u001b[0;31m             \u001b[0mresult\u001b[0m \u001b[0;34m=\u001b[0m \u001b[0mself\u001b[0m\u001b[0;34m.\u001b[0m\u001b[0mforward\u001b[0m\u001b[0;34m(\u001b[0m\u001b[0;34m*\u001b[0m\u001b[0minput\u001b[0m\u001b[0;34m,\u001b[0m \u001b[0;34m**\u001b[0m\u001b[0mkwargs\u001b[0m\u001b[0;34m)\u001b[0m\u001b[0;34m\u001b[0m\u001b[0;34m\u001b[0m\u001b[0m\n\u001b[0m\u001b[1;32m    728\u001b[0m         for hook in itertools.chain(\n\u001b[1;32m    729\u001b[0m                 \u001b[0m_global_forward_hooks\u001b[0m\u001b[0;34m.\u001b[0m\u001b[0mvalues\u001b[0m\u001b[0;34m(\u001b[0m\u001b[0;34m)\u001b[0m\u001b[0;34m,\u001b[0m\u001b[0;34m\u001b[0m\u001b[0;34m\u001b[0m\u001b[0m\n",
      "\u001b[0;32m<ipython-input-101-d611a4e8e1e4>\u001b[0m in \u001b[0;36mforward\u001b[0;34m(self, x)\u001b[0m\n\u001b[1;32m     31\u001b[0m         \u001b[0mprint\u001b[0m\u001b[0;34m(\u001b[0m\u001b[0mnoise_factor\u001b[0m\u001b[0;34m.\u001b[0m\u001b[0mshape\u001b[0m\u001b[0;34m)\u001b[0m\u001b[0;34m\u001b[0m\u001b[0;34m\u001b[0m\u001b[0m\n\u001b[1;32m     32\u001b[0m         \u001b[0mprint\u001b[0m\u001b[0;34m(\u001b[0m\u001b[0mg_noise\u001b[0m\u001b[0;34m.\u001b[0m\u001b[0mshape\u001b[0m\u001b[0;34m)\u001b[0m\u001b[0;34m\u001b[0m\u001b[0;34m\u001b[0m\u001b[0m\n\u001b[0;32m---> 33\u001b[0;31m         \u001b[0mlmao\u001b[0m \u001b[0;34m=\u001b[0m \u001b[0mnoise_factor\u001b[0m \u001b[0;34m*\u001b[0m \u001b[0mg_noise\u001b[0m\u001b[0;34m\u001b[0m\u001b[0;34m\u001b[0m\u001b[0m\n\u001b[0m\u001b[1;32m     34\u001b[0m         \u001b[0mprint\u001b[0m\u001b[0;34m(\u001b[0m\u001b[0mlmao\u001b[0m\u001b[0;34m)\u001b[0m\u001b[0;34m\u001b[0m\u001b[0;34m\u001b[0m\u001b[0m\n\u001b[1;32m     35\u001b[0m         \u001b[0mvals\u001b[0m \u001b[0;34m=\u001b[0m \u001b[0mtorch\u001b[0m\u001b[0;34m.\u001b[0m\u001b[0mfull\u001b[0m\u001b[0;34m(\u001b[0m\u001b[0mtuple\u001b[0m\u001b[0;34m(\u001b[0m\u001b[0mx\u001b[0m\u001b[0;34m.\u001b[0m\u001b[0mshape\u001b[0m\u001b[0;34m)\u001b[0m\u001b[0;34m,\u001b[0m \u001b[0mtorch\u001b[0m\u001b[0;34m.\u001b[0m\u001b[0msqrt\u001b[0m\u001b[0;34m(\u001b[0m\u001b[0mnoise_factor\u001b[0m\u001b[0;34m)\u001b[0m \u001b[0;34m*\u001b[0m \u001b[0mtorch\u001b[0m\u001b[0;34m.\u001b[0m\u001b[0mfrom_numpy\u001b[0m\u001b[0;34m(\u001b[0m\u001b[0mg_noise\u001b[0m\u001b[0;34m)\u001b[0m\u001b[0;34m)\u001b[0m\u001b[0;34m\u001b[0m\u001b[0;34m\u001b[0m\u001b[0m\n",
      "\u001b[0;31mRuntimeError\u001b[0m: The size of tensor a (18) must match the size of tensor b (40000) at non-singleton dimension 0"
     ]
    }
   ],
   "source": [
    "r = torch.rand(18, 40000)\n",
    "model = GaussianNoiseAug()\n",
    "res = model(r)"
   ]
  },
  {
   "cell_type": "code",
   "execution_count": 70,
   "metadata": {},
   "outputs": [
    {
     "output_type": "execute_result",
     "data": {
      "text/plain": [
       "0.4436741488860185"
      ]
     },
     "metadata": {},
     "execution_count": 70
    }
   ],
   "source": [
    "args\n",
    "print('Loading dataset')\n",
    "GTZAN, data_count = load_wave_data(\n",
    "            'data',\n",
    "            aug_params=aug_params,\n",
    "            segmented=self.model_config.segmented,\n",
    "            is_pre_augmented=self.model_config.pre_augment,\n",
    "            is_local=self.args.local)\n",
    "loaders = {\n",
    "    'train': torch.utils.data.DataLoader(\n",
    "        train_set,\n",
    "        batch_size=args.batch_size,\n",
    "        shuffle=True,\n",
    "        num_workers=args.num_workers,\n",
    "        pin_memory=True\n",
    "    ),\n",
    "    'test': torch.utils.data.DataLoader(\n",
    "        test_set,\n",
    "        batch_size=args.batch_size,\n",
    "        shuffle=False,\n",
    "        num_workers=args.num_workers,\n",
    "        pin_memory=True\n",
    "    )\n",
    "}\n",
    "num_classes = max(train_set.targets) + 1\n",
    "\n",
    "print('Preparing model')\n",
    "model = model_cfg.base(*model_cfg.args, num_classes=num_classes, **model_cfg.kwargs)\n",
    "aug = nn.Sequential(ContrastAug(), BrightnessAug(), \n",
    "                    Normalize([0.485, 0.456, 0.406], [0.229, 0.224, 0.225]))\n",
    "model = AugAveragedModel(model, aug, ncopies=1)\n",
    "model.cuda()\n",
    "\n",
    "\n",
    "criterion = F.cross_entropy\n",
    "optimizer = torch.optim.SGD(\n",
    "    model.parameters(),\n",
    "    lr=args.lr_init,\n",
    "    momentum=args.momentum,\n",
    "    weight_decay=args.wd\n",
    ")\n",
    "\n",
    "scheduler = torch.optim.lr_scheduler.CosineAnnealingLR(optimizer, T_max=args.epochs)\n",
    "\n",
    "start_epoch = 0\n",
    "if args.resume is not None:\n",
    "    print('Resume training from %s' % args.resume)\n",
    "    checkpoint = torch.load(args.resume)\n",
    "    start_epoch = checkpoint['epoch']\n",
    "    model.load_state_dict(checkpoint['state_dict'])\n",
    "    optimizer.load_state_dict(checkpoint['optimizer'])\n",
    "\n",
    "columns = ['ep', 'lr', 'tr_loss', 'tr_acc', 'te_loss', 'te_acc', 'time']\n",
    "\n",
    "utils.save_checkpoint(\n",
    "    args.dir,\n",
    "    start_epoch,\n",
    "    state_dict=model.state_dict(),\n",
    "    optimizer=optimizer.state_dict()\n",
    ")\n",
    "\n",
    "for epoch in range(start_epoch, args.epochs):\n",
    "    time_ep = time.time()\n",
    "\n",
    "    train_res = utils.train_epoch(loaders['train'], model, criterion, optimizer, aug_reg=args.aug_reg)\n",
    "    if epoch == 0 or epoch % args.eval_freq == args.eval_freq - 1 or epoch == args.epochs - 1:\n",
    "        test_res = utils.eval(loaders['test'], model, criterion)\n",
    "    else:\n",
    "        test_res = {'loss': None, 'accuracy': None}\n",
    "\n",
    "    lr = optimizer.param_groups[0]['lr']\n",
    "    print(\"Brightness\", model.aug[0].lims)\n",
    "    print(\"Contrast\", model.aug[1].lims)\n",
    "    scheduler.step()\n",
    "\n",
    "    if (epoch + 1) % args.save_freq == 0:\n",
    "        utils.save_checkpoint(\n",
    "            args.dir,\n",
    "            epoch + 1,\n",
    "            state_dict=model.state_dict(),\n",
    "            optimizer=optimizer.state_dict()\n",
    "        )\n",
    "\n",
    "    time_ep = time.time() - time_ep\n",
    "    values = [epoch + 1, lr, train_res['loss'], train_res['accuracy'], test_res['loss'], test_res['accuracy'], time_ep]\n",
    "    table = tabulate.tabulate([values], columns, tablefmt='simple', floatfmt='8.4f')\n",
    "    if epoch % 40 == 0:\n",
    "        table = table.split('\\n')\n",
    "        table = '\\n'.join([table[1]] + table)\n",
    "    else:\n",
    "        table = table.split('\\n')[2]\n",
    "    print(table)\n",
    "\n",
    "if args.epochs % args.save_freq != 0:\n",
    "    utils.save_checkpoint(\n",
    "        args.dir,\n",
    "        args.epochs,\n",
    "        state_dict=model.state_dict(),\n",
    "        optimizer=optimizer.state_dict()\n",
    "    )"
   ]
  }
 ]
}