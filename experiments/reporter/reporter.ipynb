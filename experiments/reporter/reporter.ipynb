{
 "metadata": {
  "language_info": {
   "codemirror_mode": {
    "name": "ipython",
    "version": 3
   },
   "file_extension": ".py",
   "mimetype": "text/x-python",
   "name": "python",
   "nbconvert_exporter": "python",
   "pygments_lexer": "ipython3",
   "version": "3.8.5-final"
  },
  "orig_nbformat": 2,
  "kernelspec": {
   "name": "python3",
   "display_name": "Python 3",
   "language": "python"
  }
 },
 "nbformat": 4,
 "nbformat_minor": 2,
 "cells": [
  {
   "cell_type": "code",
   "execution_count": 15,
   "metadata": {},
   "outputs": [],
   "source": [
    "import torch\n",
    "import torch.nn as nn\n",
    "import torch.optim as optim\n",
    "from torch.utils.data import DataLoader\n",
    "from tqdm import tqdm\n",
    "import argparse\n",
    "from torch.utils.tensorboard import SummaryWriter\n",
    "\n",
    "from dataset import load_data, GtzanDataset\n",
    "from baseline_cnn import CNN"
   ]
  },
  {
   "cell_type": "code",
   "execution_count": 3,
   "metadata": {},
   "outputs": [],
   "source": [
    "class Config():\n",
    "    def __init__(self):\n",
    "        self.batch_size = 32\n",
    "        self.epochs = 5\n",
    "        self.lr = 0.01\n",
    "args = Config()"
   ]
  },
  {
   "cell_type": "code",
   "execution_count": 66,
   "metadata": {},
   "outputs": [
    {
     "output_type": "stream",
     "name": "stdout",
     "text": [
      "folder exists lad\n",
      "keeping log\n",
      "recording first batch data\n",
      "train set has:  7\n",
      "0it [00:00, ?it/s]epoch num  0\n",
      "7it [00:42,  6.05s/it]\n",
      "0it [00:00, ?it/s]epoch num  1\n",
      "7it [00:41,  5.96s/it]\n",
      "0it [00:00, ?it/s]epoch num  2\n",
      "7it [00:41,  5.93s/it]\n",
      "0it [00:00, ?it/s]epoch num  3\n",
      "7it [00:41,  5.95s/it]\n",
      "0it [00:00, ?it/s]epoch num  4\n",
      "7it [00:41,  5.92s/it]\n"
     ]
    }
   ],
   "source": [
    "device = torch.device(\"cuda\" if torch.cuda.is_available() else \"cpu\")\n",
    "is_test = True\n",
    "\n",
    "dev_reporter = Reporter('baseline', args.epochs)\n",
    "\n",
    "# Load Data\n",
    "GTZAN = load_data(is_test=is_test)\n",
    "\n",
    "train_dataset = GtzanDataset(GTZAN.train_x, GTZAN.train_y, train=True)\n",
    "train_loader = DataLoader(dataset=train_dataset, batch_size=args.batch_size)\n",
    "\n",
    "test_dataset = GtzanDataset(GTZAN.test_x, GTZAN.test_y, train=False)\n",
    "test_loader = DataLoader(dataset=test_dataset, batch_size=args.batch_size, shuffle=True)\n",
    "\n",
    "# Initialize network\n",
    "model = CNN('yeet', get_report_data=True).to(device)\n",
    "\n",
    "dev_reporter.record_first_batch(model, train_loader)\n",
    "\n",
    "# Loss and optimizer\n",
    "criterion = nn.CrossEntropyLoss()\n",
    "optimizer = optim.Adam(model.parameters(), lr=args.lr)\n",
    "# Train Network\n",
    "for epoch in range(args.epochs):\n",
    "    print('epoch num ', epoch)\n",
    "    dev_reporter.reset_epoch_data()\n",
    "   \n",
    "    for batch_idx, (data, targets) in tqdm(enumerate(train_loader)):\n",
    "        # Get data to cuda if possible\n",
    "        data = data.to(device=device)\n",
    "        targets = targets.to(device=device)\n",
    "\n",
    "        # forward\n",
    "        preds = model(data)\n",
    "        loss = criterion(preds, targets)\n",
    "\n",
    "        dev_reporter.record_batch_data(preds, targets, loss)\n",
    "\n",
    "        # backward\n",
    "        optimizer.zero_grad()\n",
    "        loss.backward()\n",
    "\n",
    "        # gradient descent or adam step\n",
    "        optimizer.step()\n",
    "\n",
    "    dev_reporter.record_epoch_data(model, epoch)\n",
    "    "
   ]
  },
  {
   "cell_type": "code",
   "execution_count": 68,
   "metadata": {},
   "outputs": [
    {
     "output_type": "stream",
     "name": "stderr",
     "text": [
      "  0%|          | 0/4 [00:00<?, ?it/s]\n",
      "\\Getting report on model...\n",
      "100%|██████████| 4/4 [00:15<00:00,  3.96s/it]\n",
      "100%|██████████| 1/1 [00:00<00:00,  6.11it/s]\n"
     ]
    },
    {
     "output_type": "execute_result",
     "data": {
      "text/plain": [
       "(11, 0)"
      ]
     },
     "metadata": {},
     "execution_count": 68
    }
   ],
   "source": [
    "dev_reporter.set_post_training_values(model, train_dataset, test_dataset)\n",
    "dev_reporter.report_on_model()"
   ]
  },
  {
   "cell_type": "code",
   "execution_count": null,
   "metadata": {},
   "outputs": [],
   "source": []
  },
  {
   "cell_type": "code",
   "execution_count": 65,
   "metadata": {},
   "outputs": [],
   "source": [
    "from sklearn.metrics import confusion_matrix\n",
    "from reporter_utils import *\n",
    "import torchvision\n",
    "import os, re, os.path\n",
    "\n",
    "possible_names = ['baseline', 'segmented']\n",
    "\n",
    "class Reporter():\n",
    "    def __init__(self, name, max_epochs):\n",
    "        if name not in possible_names:\n",
    "            raise ValueError('name is not recognized from possible experiment names')\n",
    "        \n",
    "        my_path = os.path.join(os.getcwd(), 'reports', name)\n",
    "\n",
    "        if os.path.exists(my_path):\n",
    "            print('folder exists lad')\n",
    "            for root, dirs, files in os.walk(my_path):\n",
    "                for file in files:\n",
    "                    os.remove(os.path.join(root, file))\n",
    "\n",
    "        self.name = name\n",
    "        self.log_path = 'reports/' + name + '/train'\n",
    "        self.max_epochs = max_epochs\n",
    "\n",
    "        self.train_confusion_matrix = None\n",
    "        self.test_confusion_matrix = None\n",
    "        self.train_summary_writer = SummaryWriter(self.log_path)\n",
    "        # self.test_summary_writer = SummaryWriter('logs/tensorboard/' + name + '/test')\n",
    "\n",
    "    def set_post_training_values(self, model, train_set, test_set):\n",
    "        self.model = model\n",
    "        self.train_set = train_set\n",
    "        self.test_set = test_set\n",
    "    def report_on_model(self):\n",
    "        print('\\n\\Getting report on model...')\n",
    "        train_loader = torch.utils.data.DataLoader(self.train_set, batch_size=64)\n",
    "        test_loader = torch.utils.data.DataLoader(self.test_set, batch_size=64)\n",
    "        \n",
    "        self.train_predictions = get_all_preds(self.model, train_loader)\n",
    "        self.test_predictions = get_all_preds(self.model, test_loader)\n",
    "\n",
    "        train_num_correct = get_num_correct(self.train_predictions, self.train_set.targets)\n",
    "        test_num_correct = get_num_correct(self.test_predictions, self.test_set.targets)\n",
    "        \n",
    "        self.train_confusion_matrix = confusion_matrix(\n",
    "                                    self.train_set.targets,\n",
    "                                    self.train_predictions.argmax(dim=1))\n",
    "        self.test_confusion_matrix = confusion_matrix(\n",
    "                                    self.test_set.targets,\n",
    "                                    self.test_predictions.argmax(dim=1))\n",
    "        \n",
    "        return (train_num_correct, test_num_correct)\n",
    "                                    \n",
    "    \n",
    "    def show_confusion_matrix(self, train=True):\n",
    "        if self.confusion_matrix is not None:\n",
    "            if train:\n",
    "                plot_confusion_matrix(self.train_confusion_matrix)\n",
    "            else:\n",
    "                plot_confusion_matrix(self.test_confusion_matrix)\n",
    "        else:\n",
    "            raise ValueError(\n",
    "                'confusion matrix is not generated yet, please run Reporter.report_on_model() to generate it.')\n",
    "    \n",
    "    def record_first_batch(self, model, loader):\n",
    "        print('recording first batch data')\n",
    "        with torch.no_grad():\n",
    "            images, labels = next(iter(loader))\n",
    "            first_spectrogram = images.unsqueeze(1)[0,:,:,:]\n",
    "            self.train_set_len = len(loader)\n",
    "            print('train set has: ', self.train_set_len)\n",
    "            self.train_summary_writer.add_image('images', first_spectrogram)\n",
    "            self.train_summary_writer.add_graph(model, first_spectrogram)\n",
    "    def reset_epoch_data(self):\n",
    "        self.total_loss = 0\n",
    "        self.total_correct = 0\n",
    "    def record_batch_data(self, predictions, targets, loss): # could be further extended\n",
    "        self.total_loss += loss.item()\n",
    "        self.total_correct += get_num_correct(predictions, targets.numpy())\n",
    "    def record_epoch_data(self, model, epoch):\n",
    "        self.train_summary_writer.add_scalar(\"Loss\", self.total_loss, epoch)\n",
    "        self.train_summary_writer.add_scalar(\"Correct\", self.total_correct, epoch)\n",
    "        self.train_summary_writer.add_scalar(\"Accuracy\", self.total_correct / self.train_set_len, epoch)\n",
    "\n",
    "        self.train_summary_writer.add_histogram(\"conv1.bias\", model.conv1.bias, epoch)\n",
    "        self.train_summary_writer.add_histogram(\"conv1.weight\", model.conv1.weight, epoch)\n",
    "        self.train_summary_writer.add_histogram(\"conv2.bias\", model.conv2.bias, epoch)\n",
    "        self.train_summary_writer.add_histogram(\"conv2.weight\", model.conv2.weight, epoch)\n",
    "        if (epoch-1) == self.max_epochs:\n",
    "            print('train summary writer is closing')\n",
    "            self.train_summary_writer.close()"
   ]
  },
  {
   "cell_type": "code",
   "execution_count": 31,
   "metadata": {},
   "outputs": [],
   "source": [
    "reporter = Reporter('baseline')"
   ]
  },
  {
   "cell_type": "code",
   "execution_count": 32,
   "metadata": {},
   "outputs": [],
   "source": [
    "reporter.set_post_training_values(model, train_dataset, test_dataset)\n"
   ]
  },
  {
   "cell_type": "code",
   "execution_count": 34,
   "metadata": {},
   "outputs": [
    {
     "output_type": "stream",
     "name": "stderr",
     "text": [
      "  0%|          | 0/4 [00:00<?, ?it/s]\n",
      "\n",
      "Getting correct predictions...\n",
      "100%|██████████| 4/4 [00:15<00:00,  3.94s/it]\n",
      "100%|██████████| 1/1 [00:00<00:00,  6.22it/s]train_num_correct 33\n",
      "test_num_correct 0\n",
      "\n"
     ]
    }
   ],
   "source": [
    "reporter.report_on_model()"
   ]
  },
  {
   "cell_type": "code",
   "execution_count": 1,
   "metadata": {},
   "outputs": [
    {
     "output_type": "error",
     "ename": "NameError",
     "evalue": "name 'reporter' is not defined",
     "traceback": [
      "\u001b[0;31m---------------------------------------------------------------------------\u001b[0m",
      "\u001b[0;31mNameError\u001b[0m                                 Traceback (most recent call last)",
      "\u001b[0;32m<ipython-input-1-690a5a89b319>\u001b[0m in \u001b[0;36m<module>\u001b[0;34m\u001b[0m\n\u001b[1;32m      1\u001b[0m \u001b[0;31m# type()\u001b[0m\u001b[0;34m\u001b[0m\u001b[0;34m\u001b[0m\u001b[0;34m\u001b[0m\u001b[0m\n\u001b[0;32m----> 2\u001b[0;31m \u001b[0mreporter\u001b[0m\u001b[0;34m.\u001b[0m\u001b[0mconfusion_matrix\u001b[0m\u001b[0;34m.\u001b[0m\u001b[0mshape\u001b[0m\u001b[0;34m\u001b[0m\u001b[0;34m\u001b[0m\u001b[0m\n\u001b[0m",
      "\u001b[0;31mNameError\u001b[0m: name 'reporter' is not defined"
     ]
    }
   ],
   "source": [
    "# type()\n",
    "reporter.confusion_matrix.shape"
   ]
  },
  {
   "cell_type": "code",
   "execution_count": null,
   "metadata": {},
   "outputs": [],
   "source": []
  }
 ]
}