{
 "metadata": {
  "language_info": {
   "codemirror_mode": {
    "name": "ipython",
    "version": 3
   },
   "file_extension": ".py",
   "mimetype": "text/x-python",
   "name": "python",
   "nbconvert_exporter": "python",
   "pygments_lexer": "ipython3",
   "version": "3.8.5-final"
  },
  "orig_nbformat": 2,
  "kernelspec": {
   "name": "python3",
   "display_name": "Python 3",
   "language": "python"
  }
 },
 "nbformat": 4,
 "nbformat_minor": 2,
 "cells": [
  {
   "cell_type": "code",
   "execution_count": 15,
   "metadata": {},
   "outputs": [],
   "source": [
    "import torch\n",
    "import torch.nn as nn\n",
    "import torch.optim as optim\n",
    "from torch.utils.data import DataLoader\n",
    "from tqdm import tqdm\n",
    "import argparse\n",
    "from torch.utils.tensorboard import SummaryWriter\n",
    "\n",
    "from dataset import load_data, GtzanDataset\n",
    "from baseline_cnn import CNN"
   ]
  },
  {
   "cell_type": "code",
   "execution_count": 3,
   "metadata": {},
   "outputs": [],
   "source": [
    "class Config():\n",
    "    def __init__(self):\n",
    "        self.batch_size = 32\n",
    "        self.epochs = 5\n",
    "        self.lr = 0.01\n",
    "args = Config()"
   ]
  },
  {
   "cell_type": "code",
   "execution_count": 46,
   "metadata": {},
   "outputs": [
    {
     "output_type": "stream",
     "name": "stdout",
     "text": [
      "keeping log\n",
      "torch.Size([1, 128, 2330])\n"
     ]
    },
    {
     "output_type": "error",
     "ename": "SyntaxError",
     "evalue": "'break' outside loop (<ipython-input-46-444879f2e801>, line 19)",
     "traceback": [
      "\u001b[0;36m  File \u001b[0;32m\"<ipython-input-46-444879f2e801>\"\u001b[0;36m, line \u001b[0;32m19\u001b[0m\n\u001b[0;31m    break\u001b[0m\n\u001b[0m    ^\u001b[0m\n\u001b[0;31mSyntaxError\u001b[0m\u001b[0;31m:\u001b[0m 'break' outside loop\n"
     ]
    }
   ],
   "source": [
    "device = torch.device(\"cuda\" if torch.cuda.is_available() else \"cpu\")\n",
    "is_test = True\n",
    "\n",
    "dev_reporter = Reporter('baseline')\n",
    "\n",
    "# Load Data\n",
    "GTZAN = load_data(is_test=is_test)\n",
    "\n",
    "train_dataset = GtzanDataset(GTZAN.train_x, GTZAN.train_y, train=True)\n",
    "train_loader = DataLoader(dataset=train_dataset, batch_size=args.batch_size)\n",
    "\n",
    "test_dataset = GtzanDataset(GTZAN.test_x, GTZAN.test_y, train=False)\n",
    "test_loader = DataLoader(dataset=test_dataset, batch_size=args.batch_size, shuffle=True)\n",
    "\n",
    "# Initialize network\n",
    "model = CNN('yeet', get_report_data=True).to(device)\n",
    "\n",
    "dev_reporter.record_first_batch(model, train_loader)\n",
    "\n",
    "# Loss and optimizer\n",
    "criterion = nn.CrossEntropyLoss()\n",
    "optimizer = optim.Adam(model.parameters(), lr=args.lr)\n",
    "# Train Network\n",
    "for epoch in range(args.epochs):\n",
    "    print('epoch num ', epoch)\n",
    "\n",
    "    # reset epoch reporter\n",
    "    total_loss = 0\n",
    "    total_correct = 0\n",
    "\n",
    "\n",
    "    for batch_idx, (data, targets) in tqdm(enumerate(train_loader)):\n",
    "        # Get data to cuda if possible\n",
    "        data = data.to(device=device)\n",
    "        targets = targets.to(device=device)\n",
    "\n",
    "        # forward\n",
    "        preds = model(data)\n",
    "        loss = criterion(preds, targets)\n",
    "\n",
    "        # add to total loss and accuracy to epoch report\n",
    "        total_loss += loss.item()\n",
    "        total_correct += get_num_correct(preds, targets)\n",
    "\n",
    "        # backward\n",
    "        optimizer.zero_grad()\n",
    "        loss.backward()\n",
    "\n",
    "        # gradient descent or adam step\n",
    "        optimizer.step()\n",
    "        print('Train Epoch: {} [{}/{} ({:.0f}%)]\\tLoss: {:.6f}'.format(\n",
    "                    epoch, batch_idx * len(data), len(train_loader.dataset),\n",
    "                    100. * batch_idx / len(train_loader), loss.item()))\n",
    "    tb.add_scalar(\"Loss\", total_loss, epoch)\n",
    "    tb.add_scalar(\"Correct\", total_correct, epoch)\n",
    "    tb.add_scalar(\"Accuracy\", total_correct/ len(train_set), epoch)\n",
    "\n",
    "    tb.add_histogram(\"conv1.bias\", model.conv1.bias, epoch)\n",
    "    tb.add_histogram(\"conv1.weight\", model.conv1.weight, epoch)\n",
    "    tb.add_histogram(\"conv2.bias\", model.conv2.bias, epoch)\n",
    "    tb.add_histogram(\"conv2.weight\", model.conv2.weight, epoch)"
   ]
  },
  {
   "cell_type": "code",
   "execution_count": 23,
   "metadata": {},
   "outputs": [],
   "source": [
    "\n",
    "@torch.no_grad()\n",
    "def get_all_preds(model, loader):\n",
    "    all_preds = torch.tensor([])\n",
    "    for batch in tqdm(loader):\n",
    "        images, labels = batch\n",
    "\n",
    "        preds = model(images)\n",
    "        all_preds = torch.cat(\n",
    "            (all_preds, preds)\n",
    "            ,dim=0\n",
    "        )\n",
    "    return all_preds\n",
    "\n",
    "def get_num_correct(preds, labels):\n",
    "    return preds.argmax(dim=1).eq(torch.from_numpy(labels)).sum().item()"
   ]
  },
  {
   "cell_type": "code",
   "execution_count": 47,
   "metadata": {},
   "outputs": [],
   "source": [
    "from sklearn.metrics import confusion_matrix\n",
    "from reporter_utils import plot_confusion_matrix\n",
    "import torchvision\n",
    "\n",
    "possible_names = ['baseline', 'segmented']\n",
    "\n",
    "class Reporter():\n",
    "    def __init__(self, name):\n",
    "        if name not in possible_names:\n",
    "            raise ValueError('name is not recognized from possible experiment names')\n",
    "        self.confusion_matrix = None\n",
    "        # self.train_summary_writer = SummaryWriter('logs/tensorboard/' + name + '/train')\n",
    "        # self.test_summary_writer = SummaryWriter('logs/tensorboard/' + name + '/test')\n",
    "\n",
    "    def set_post_training_values(self, model, train_set, test_set):\n",
    "        self.model = model\n",
    "        self.train_set = train_set\n",
    "        self.test_set = test_set\n",
    "    def report_on_model(self):\n",
    "        train_loader = torch.utils.data.DataLoader(self.train_set, batch_size=64)\n",
    "        test_loader = torch.utils.data.DataLoader(self.test_set, batch_size=64)\n",
    "        \n",
    "        print('\\n\\nGetting correct predictions...')\n",
    "        self.train_predictions = get_all_preds(self.model, train_loader)\n",
    "        self.test_predictions = get_all_preds(self.model, test_loader)\n",
    "\n",
    "        train_num_correct = get_num_correct(self.train_predictions, self.train_set.targets)\n",
    "        test_num_correct = get_num_correct(self.test_predictions, self.test_set.targets)\n",
    "        print('train_num_correct', train_num_correct)\n",
    "        print('test_num_correct', test_num_correct)\n",
    "        self.confusion_matrix = confusion_matrix(\n",
    "                                    self.train_set.targets,\n",
    "                                    self.train_predictions.argmax(dim=1))\n",
    "    \n",
    "    def show_confusion_matrix(self):\n",
    "        if self.confusion_matrix is not None:\n",
    "            plot_confusion_matrix(self.confusion_matrix)\n",
    "        else:\n",
    "            raise ValueError(\n",
    "                'confusion matrix is not generated yet, please run Reporter.report_on_model() to generate it.')\n",
    "    def record_first_batch(self, model, loader):\n",
    "        with torch.no_grad():\n",
    "            images, labels = next(iter(loader))\n",
    "            grid = torchvision.utils.make_grid(images.unsqueeze(1))\n",
    "            first_spectrogram = images.unsqueeze(1)[0,:,:,:]\n",
    "            print(first_spectrogram.shape)            \n",
    "            # print(type(grid))\n",
    "            # print(grid)\n",
    "            tb = SummaryWriter()\n",
    "\n",
    "            tb.add_image('images', first_spectrogram)\n",
    "            tb.add_graph(model, grid)\n",
    "            tb.close()"
   ]
  },
  {
   "cell_type": "code",
   "execution_count": 31,
   "metadata": {},
   "outputs": [],
   "source": [
    "reporter = Reporter('baseline')"
   ]
  },
  {
   "cell_type": "code",
   "execution_count": 32,
   "metadata": {},
   "outputs": [],
   "source": [
    "reporter.set_post_training_values(model, train_dataset, test_dataset)\n"
   ]
  },
  {
   "cell_type": "code",
   "execution_count": 34,
   "metadata": {},
   "outputs": [
    {
     "output_type": "stream",
     "name": "stderr",
     "text": [
      "  0%|          | 0/4 [00:00<?, ?it/s]\n",
      "\n",
      "Getting correct predictions...\n",
      "100%|██████████| 4/4 [00:15<00:00,  3.94s/it]\n",
      "100%|██████████| 1/1 [00:00<00:00,  6.22it/s]train_num_correct 33\n",
      "test_num_correct 0\n",
      "\n"
     ]
    }
   ],
   "source": [
    "reporter.report_on_model()"
   ]
  },
  {
   "cell_type": "code",
   "execution_count": 1,
   "metadata": {},
   "outputs": [
    {
     "output_type": "error",
     "ename": "NameError",
     "evalue": "name 'reporter' is not defined",
     "traceback": [
      "\u001b[0;31m---------------------------------------------------------------------------\u001b[0m",
      "\u001b[0;31mNameError\u001b[0m                                 Traceback (most recent call last)",
      "\u001b[0;32m<ipython-input-1-690a5a89b319>\u001b[0m in \u001b[0;36m<module>\u001b[0;34m\u001b[0m\n\u001b[1;32m      1\u001b[0m \u001b[0;31m# type()\u001b[0m\u001b[0;34m\u001b[0m\u001b[0;34m\u001b[0m\u001b[0;34m\u001b[0m\u001b[0m\n\u001b[0;32m----> 2\u001b[0;31m \u001b[0mreporter\u001b[0m\u001b[0;34m.\u001b[0m\u001b[0mconfusion_matrix\u001b[0m\u001b[0;34m.\u001b[0m\u001b[0mshape\u001b[0m\u001b[0;34m\u001b[0m\u001b[0;34m\u001b[0m\u001b[0m\n\u001b[0m",
      "\u001b[0;31mNameError\u001b[0m: name 'reporter' is not defined"
     ]
    }
   ],
   "source": [
    "# type()\n",
    "reporter.confusion_matrix.shape"
   ]
  },
  {
   "cell_type": "code",
   "execution_count": null,
   "metadata": {},
   "outputs": [],
   "source": []
  }
 ]
}